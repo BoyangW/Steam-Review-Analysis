{
 "cells": [
  {
   "cell_type": "markdown",
   "metadata": {},
   "source": [
    "# ANLY 580 Project 2"
   ]
  },
  {
   "cell_type": "markdown",
   "metadata": {},
   "source": [
    "## Text Classification\n",
    "This part focuses on using deep learning <b>recurrent neural network (RNN)</b> to classify the label of steam reviews (recommend vs not-recommend). The results are then evaluated later based on training and testing <b>accuracy/loss</b> and actual classification results (measured in <b>ROC curve</b> and <b>confusion matrix</b>)."
   ]
  },
  {
   "cell_type": "code",
   "execution_count": 1,
   "metadata": {},
   "outputs": [],
   "source": [
    "import pandas as pd\n",
    "import numpy as np\n",
    "import matplotlib.pyplot as plt\n",
    "import tensorflow as tf\n",
    "from tensorflow.keras.layers import Input, Dense, Conv2D, MaxPooling2D, UpSampling2D\n",
    "from tensorflow.keras.layers import Dropout, Input, Embedding, LSTM\n",
    "from tensorflow.keras.models import Model,Sequential\n",
    "from tensorflow.keras.preprocessing.text import Tokenizer\n",
    "from tensorflow.keras.preprocessing import sequence\n",
    "from sklearn.model_selection import train_test_split\n",
    "from tensorflow.keras.callbacks import EarlyStopping\n",
    "import nltk\n",
    "from nltk.stem import WordNetLemmatizer\n",
    "from nltk.stem import PorterStemmer\n",
    "from nltk.corpus import stopwords\n",
    "import string\n",
    "import re"
   ]
  },
  {
   "cell_type": "code",
   "execution_count": 2,
   "metadata": {},
   "outputs": [],
   "source": [
    "# load the data\n",
    "df = pd.read_csv('steam_reviews.csv')"
   ]
  },
  {
   "cell_type": "markdown",
   "metadata": {},
   "source": [
    "Below is the top 5 lanes of the steam reviews data, we are primarily focusing on <b>review</b> as predictive variable and <b>recommendation</b> as response variable."
   ]
  },
  {
   "cell_type": "code",
   "execution_count": 3,
   "metadata": {},
   "outputs": [
    {
     "data": {
      "text/html": [
       "<div>\n",
       "<style scoped>\n",
       "    .dataframe tbody tr th:only-of-type {\n",
       "        vertical-align: middle;\n",
       "    }\n",
       "\n",
       "    .dataframe tbody tr th {\n",
       "        vertical-align: top;\n",
       "    }\n",
       "\n",
       "    .dataframe thead th {\n",
       "        text-align: right;\n",
       "    }\n",
       "</style>\n",
       "<table border=\"1\" class=\"dataframe\">\n",
       "  <thead>\n",
       "    <tr style=\"text-align: right;\">\n",
       "      <th></th>\n",
       "      <th>date_posted</th>\n",
       "      <th>funny</th>\n",
       "      <th>helpful</th>\n",
       "      <th>hour_played</th>\n",
       "      <th>is_early_access_review</th>\n",
       "      <th>recommendation</th>\n",
       "      <th>review</th>\n",
       "      <th>title</th>\n",
       "    </tr>\n",
       "  </thead>\n",
       "  <tbody>\n",
       "    <tr>\n",
       "      <th>0</th>\n",
       "      <td>2019-02-10</td>\n",
       "      <td>2</td>\n",
       "      <td>4</td>\n",
       "      <td>578</td>\n",
       "      <td>False</td>\n",
       "      <td>Recommended</td>\n",
       "      <td>&amp;gt Played as German Reich&amp;gt Declare war on B...</td>\n",
       "      <td>Expansion - Hearts of Iron IV: Man the Guns</td>\n",
       "    </tr>\n",
       "    <tr>\n",
       "      <th>1</th>\n",
       "      <td>2019-02-10</td>\n",
       "      <td>0</td>\n",
       "      <td>0</td>\n",
       "      <td>184</td>\n",
       "      <td>False</td>\n",
       "      <td>Recommended</td>\n",
       "      <td>yes.</td>\n",
       "      <td>Expansion - Hearts of Iron IV: Man the Guns</td>\n",
       "    </tr>\n",
       "    <tr>\n",
       "      <th>2</th>\n",
       "      <td>2019-02-07</td>\n",
       "      <td>0</td>\n",
       "      <td>0</td>\n",
       "      <td>892</td>\n",
       "      <td>False</td>\n",
       "      <td>Recommended</td>\n",
       "      <td>Very good game although a bit overpriced in my...</td>\n",
       "      <td>Expansion - Hearts of Iron IV: Man the Guns</td>\n",
       "    </tr>\n",
       "    <tr>\n",
       "      <th>3</th>\n",
       "      <td>2018-06-14</td>\n",
       "      <td>126</td>\n",
       "      <td>1086</td>\n",
       "      <td>676</td>\n",
       "      <td>False</td>\n",
       "      <td>Recommended</td>\n",
       "      <td>Out of all the reviews I wrote This one is pro...</td>\n",
       "      <td>Dead by Daylight</td>\n",
       "    </tr>\n",
       "    <tr>\n",
       "      <th>4</th>\n",
       "      <td>2017-06-20</td>\n",
       "      <td>85</td>\n",
       "      <td>2139</td>\n",
       "      <td>612</td>\n",
       "      <td>False</td>\n",
       "      <td>Recommended</td>\n",
       "      <td>Disclaimer I survivor main. I play games for f...</td>\n",
       "      <td>Dead by Daylight</td>\n",
       "    </tr>\n",
       "  </tbody>\n",
       "</table>\n",
       "</div>"
      ],
      "text/plain": [
       "  date_posted  funny  helpful  hour_played  is_early_access_review  \\\n",
       "0  2019-02-10      2        4          578                   False   \n",
       "1  2019-02-10      0        0          184                   False   \n",
       "2  2019-02-07      0        0          892                   False   \n",
       "3  2018-06-14    126     1086          676                   False   \n",
       "4  2017-06-20     85     2139          612                   False   \n",
       "\n",
       "  recommendation                                             review  \\\n",
       "0    Recommended  &gt Played as German Reich&gt Declare war on B...   \n",
       "1    Recommended                                               yes.   \n",
       "2    Recommended  Very good game although a bit overpriced in my...   \n",
       "3    Recommended  Out of all the reviews I wrote This one is pro...   \n",
       "4    Recommended  Disclaimer I survivor main. I play games for f...   \n",
       "\n",
       "                                         title  \n",
       "0  Expansion - Hearts of Iron IV: Man the Guns  \n",
       "1  Expansion - Hearts of Iron IV: Man the Guns  \n",
       "2  Expansion - Hearts of Iron IV: Man the Guns  \n",
       "3                             Dead by Daylight  \n",
       "4                             Dead by Daylight  "
      ]
     },
     "execution_count": 3,
     "metadata": {},
     "output_type": "execute_result"
    }
   ],
   "source": [
    "df.head(5)"
   ]
  },
  {
   "cell_type": "markdown",
   "metadata": {},
   "source": [
    "### Data Cleaning\n",
    "This part focus on cleaning the reviews data by removing missing values, non-helpful reviews, some common words and non-ascii encoding words to ensure the quality of the input before training the deep learning model"
   ]
  },
  {
   "cell_type": "code",
   "execution_count": 4,
   "metadata": {},
   "outputs": [],
   "source": [
    "df_clean = df[df.review.notnull()] #filter missing value\n",
    "df_clean = df_clean[df_clean['helpful'] != 0] #filter non-helpful review"
   ]
  },
  {
   "cell_type": "code",
   "execution_count": 5,
   "metadata": {},
   "outputs": [],
   "source": [
    "# NLTK Stop words\n",
    "# Define our stoplist for removing common words and tokenizing\n",
    "list1 = ['RT','rt', '&amp;', 'im', 'b4', 'yr', 'nd', 'rd', 'oh', \"can't\", \"he's\", \"i'll\",\n",
    "         \"i'm\", 'ta', \"'s\", \"c'mon\", 'th', 'st', \"that's\", \"they're\", \"i've\", 'am', 'pm']\n",
    "list2 = ['good','nice','awesome','cool','perfect','like','very','&gt','well','sucks','damn','bad','great','XD','&lt','best','ok','suck','shit','s','u','c','k','garbage','noob','trash']\n",
    "stoplist = stopwords.words('english') + list(string.punctuation) + list1 + list2"
   ]
  },
  {
   "cell_type": "code",
   "execution_count": 7,
   "metadata": {},
   "outputs": [],
   "source": [
    "# further clean review by removing user tags marks and so on \n",
    "corpus_rec = []\n",
    "for i in df_clean['review']:\n",
    "    comm = i    \n",
    "    comm = re.sub(r'http\\S+', '', comm) #remove url's    \n",
    "    #remove hashtags and mentions\n",
    "    comm = re.sub(r'#\\w+ ?', '', comm)\n",
    "    comm = re.sub(r'@\\w+ ?', '', comm)\n",
    "    comm = comm.replace(\"&amp;\", \" \").replace(\"&gt;\", \"\").replace(\"&lt;\", \"\")\n",
    "    #remove curly bracket\n",
    "    comm = comm.replace(\"(\", \"\").replace(\")\", \"\").replace(\".\", \"\").replace(\"?\", \"\").replace(\"!\", \"\").replace(\",\", \"\")\n",
    "    comm = comm.replace(\"/\", \" \").replace(\"=\", \"\").replace('\\\"', \"\").replace('*', '').replace(';', \"\")\n",
    "    comm = comm.replace(':', '').replace('\"', '')\n",
    "    comm = re.sub(r'\\$[0-9]+', '', comm)\n",
    "    comm = re.sub(r'[0-9]+GB', '', comm)\n",
    "    comm = re.sub(r'[0-9]+', '', comm)\n",
    "    comm = re.sub(r'--+', ' ', comm)\n",
    "    #remove non-ascii encoding words (non-alphabetical)\n",
    "    comm = comm.encode(\"ascii\", errors=\"ignore\").decode()\n",
    "    corpus_rec.append(comm)"
   ]
  },
  {
   "cell_type": "markdown",
   "metadata": {},
   "source": [
    "Now let's visualize the cleaned results below:"
   ]
  },
  {
   "cell_type": "code",
   "execution_count": 8,
   "metadata": {},
   "outputs": [],
   "source": [
    "df_clean['review_clean'] = corpus_rec"
   ]
  },
  {
   "cell_type": "code",
   "execution_count": 10,
   "metadata": {},
   "outputs": [],
   "source": [
    "# encode the label (recommend vs non-recommend to 1 and 0 for trainbing purpose)\n",
    "df_clean['label'] = np.where(df_clean['recommendation']=='Recommended', 1, 0)"
   ]
  },
  {
   "cell_type": "code",
   "execution_count": 11,
   "metadata": {},
   "outputs": [
    {
     "data": {
      "text/html": [
       "<div>\n",
       "<style scoped>\n",
       "    .dataframe tbody tr th:only-of-type {\n",
       "        vertical-align: middle;\n",
       "    }\n",
       "\n",
       "    .dataframe tbody tr th {\n",
       "        vertical-align: top;\n",
       "    }\n",
       "\n",
       "    .dataframe thead th {\n",
       "        text-align: right;\n",
       "    }\n",
       "</style>\n",
       "<table border=\"1\" class=\"dataframe\">\n",
       "  <thead>\n",
       "    <tr style=\"text-align: right;\">\n",
       "      <th></th>\n",
       "      <th>date_posted</th>\n",
       "      <th>funny</th>\n",
       "      <th>helpful</th>\n",
       "      <th>hour_played</th>\n",
       "      <th>is_early_access_review</th>\n",
       "      <th>recommendation</th>\n",
       "      <th>review</th>\n",
       "      <th>title</th>\n",
       "      <th>review_clean</th>\n",
       "      <th>label</th>\n",
       "    </tr>\n",
       "  </thead>\n",
       "  <tbody>\n",
       "    <tr>\n",
       "      <th>0</th>\n",
       "      <td>2019-02-10</td>\n",
       "      <td>2</td>\n",
       "      <td>4</td>\n",
       "      <td>578</td>\n",
       "      <td>False</td>\n",
       "      <td>Recommended</td>\n",
       "      <td>&amp;gt Played as German Reich&amp;gt Declare war on B...</td>\n",
       "      <td>Expansion - Hearts of Iron IV: Man the Guns</td>\n",
       "      <td>&amp;gt Played as German Reich&amp;gt Declare war on B...</td>\n",
       "      <td>1</td>\n",
       "    </tr>\n",
       "    <tr>\n",
       "      <th>3</th>\n",
       "      <td>2018-06-14</td>\n",
       "      <td>126</td>\n",
       "      <td>1086</td>\n",
       "      <td>676</td>\n",
       "      <td>False</td>\n",
       "      <td>Recommended</td>\n",
       "      <td>Out of all the reviews I wrote This one is pro...</td>\n",
       "      <td>Dead by Daylight</td>\n",
       "      <td>Out of all the reviews I wrote This one is pro...</td>\n",
       "      <td>1</td>\n",
       "    </tr>\n",
       "    <tr>\n",
       "      <th>4</th>\n",
       "      <td>2017-06-20</td>\n",
       "      <td>85</td>\n",
       "      <td>2139</td>\n",
       "      <td>612</td>\n",
       "      <td>False</td>\n",
       "      <td>Recommended</td>\n",
       "      <td>Disclaimer I survivor main. I play games for f...</td>\n",
       "      <td>Dead by Daylight</td>\n",
       "      <td>Disclaimer I survivor main I play games for fu...</td>\n",
       "      <td>1</td>\n",
       "    </tr>\n",
       "    <tr>\n",
       "      <th>5</th>\n",
       "      <td>2016-12-12</td>\n",
       "      <td>4</td>\n",
       "      <td>55</td>\n",
       "      <td>2694</td>\n",
       "      <td>False</td>\n",
       "      <td>Recommended</td>\n",
       "      <td>ENGLISH After playing for more than two years ...</td>\n",
       "      <td>Dead by Daylight</td>\n",
       "      <td>ENGLISH After playing for more than two years ...</td>\n",
       "      <td>1</td>\n",
       "    </tr>\n",
       "    <tr>\n",
       "      <th>6</th>\n",
       "      <td>2017-09-17</td>\n",
       "      <td>12</td>\n",
       "      <td>228</td>\n",
       "      <td>48</td>\n",
       "      <td>False</td>\n",
       "      <td>Recommended</td>\n",
       "      <td>Out of all the reviews I wrote This one is pro...</td>\n",
       "      <td>Dead by Daylight</td>\n",
       "      <td>Out of all the reviews I wrote This one is pro...</td>\n",
       "      <td>1</td>\n",
       "    </tr>\n",
       "  </tbody>\n",
       "</table>\n",
       "</div>"
      ],
      "text/plain": [
       "  date_posted  funny  helpful  hour_played  is_early_access_review  \\\n",
       "0  2019-02-10      2        4          578                   False   \n",
       "3  2018-06-14    126     1086          676                   False   \n",
       "4  2017-06-20     85     2139          612                   False   \n",
       "5  2016-12-12      4       55         2694                   False   \n",
       "6  2017-09-17     12      228           48                   False   \n",
       "\n",
       "  recommendation                                             review  \\\n",
       "0    Recommended  &gt Played as German Reich&gt Declare war on B...   \n",
       "3    Recommended  Out of all the reviews I wrote This one is pro...   \n",
       "4    Recommended  Disclaimer I survivor main. I play games for f...   \n",
       "5    Recommended  ENGLISH After playing for more than two years ...   \n",
       "6    Recommended  Out of all the reviews I wrote This one is pro...   \n",
       "\n",
       "                                         title  \\\n",
       "0  Expansion - Hearts of Iron IV: Man the Guns   \n",
       "3                             Dead by Daylight   \n",
       "4                             Dead by Daylight   \n",
       "5                             Dead by Daylight   \n",
       "6                             Dead by Daylight   \n",
       "\n",
       "                                        review_clean  label  \n",
       "0  &gt Played as German Reich&gt Declare war on B...      1  \n",
       "3  Out of all the reviews I wrote This one is pro...      1  \n",
       "4  Disclaimer I survivor main I play games for fu...      1  \n",
       "5  ENGLISH After playing for more than two years ...      1  \n",
       "6  Out of all the reviews I wrote This one is pro...      1  "
      ]
     },
     "execution_count": 11,
     "metadata": {},
     "output_type": "execute_result"
    }
   ],
   "source": [
    "df_clean.head()"
   ]
  },
  {
   "cell_type": "markdown",
   "metadata": {},
   "source": [
    "### Recurrent Neural Network\n",
    "This part focuses on preparing, designing and training a recurrent neural network to predict the labels based on embeded word vectors. The hyper parameters are customized for several different sets and after trying some different combinations, below is the best among all the models:"
   ]
  },
  {
   "cell_type": "code",
   "execution_count": 16,
   "metadata": {
    "collapsed": true
   },
   "outputs": [],
   "source": [
    "# The maximum number of words to be used. (most frequent)\n",
    "MAX_NB_WORDS = 30000\n",
    "# Max number of words in each review\n",
    "MAX_SEQUENCE_LENGTH = 1000\n",
    "# Number of embedding dimensions (projection)\n",
    "EMBEDDING_DIM = 100"
   ]
  },
  {
   "cell_type": "code",
   "execution_count": null,
   "metadata": {},
   "outputs": [],
   "source": [
    "# Additional tokenization \n",
    "tokenizer = Tokenizer(num_words=MAX_NB_WORDS, filters='!\"#$%&()*+,-./:;<=>?@[\\]^_`{|}~', lower=True)\n",
    "tokenizer.fit_on_texts(df_clean['review_clean'].values)\n",
    "word_index = tokenizer.word_index\n",
    "print('Found %s unique tokens.' % len(word_index))"
   ]
  },
  {
   "cell_type": "code",
   "execution_count": 18,
   "metadata": {},
   "outputs": [
    {
     "name": "stdout",
     "output_type": "stream",
     "text": [
      "Shape of data tensor: (35071, 1000)\n",
      "Shape of label tensor: (35071,)\n"
     ]
    }
   ],
   "source": [
    "# Parse reviews' text to embedding vectors \n",
    "X = tokenizer.texts_to_sequences(df_clean['review_clean'].values)\n",
    "X = sequence.pad_sequences(X, maxlen=MAX_SEQUENCE_LENGTH)\n",
    "Y = df_clean['label'].values\n",
    "\n",
    "print('Shape of data tensor:', X.shape)\n",
    "print('Shape of label tensor:', Y.shape)"
   ]
  },
  {
   "cell_type": "markdown",
   "metadata": {},
   "source": [
    "Split the training and testing set"
   ]
  },
  {
   "cell_type": "code",
   "execution_count": 19,
   "metadata": {},
   "outputs": [
    {
     "name": "stdout",
     "output_type": "stream",
     "text": [
      "(31563, 1000) (31563,)\n",
      "(3508, 1000) (3508,)\n"
     ]
    }
   ],
   "source": [
    "X_train, X_test, Y_train, Y_test = train_test_split(X,Y, test_size = 0.10, random_state = 42)\n",
    "print(X_train.shape,Y_train.shape)\n",
    "print(X_test.shape,Y_test.shape)"
   ]
  },
  {
   "cell_type": "code",
   "execution_count": 20,
   "metadata": {},
   "outputs": [],
   "source": [
    "# set up RNN structure\n",
    "def SetupModel():    \n",
    "    model = Sequential()\n",
    "    model.add(Embedding(MAX_NB_WORDS, EMBEDDING_DIM, input_length=X_train.shape[1]))\n",
    "    model.add(Dropout(0.2))\n",
    "    model.add(LSTM(100, dropout=0.2, recurrent_dropout=0.2))\n",
    "    model.add(Dense(1, activation='sigmoid'))\n",
    "    return(model)\n",
    "\n",
    "# set up number of epoches batch size\n",
    "epochs = 5\n",
    "batch_size = 32"
   ]
  },
  {
   "cell_type": "code",
   "execution_count": 21,
   "metadata": {},
   "outputs": [
    {
     "name": "stdout",
     "output_type": "stream",
     "text": [
      "Model: \"sequential\"\n",
      "_________________________________________________________________\n",
      "Layer (type)                 Output Shape              Param #   \n",
      "=================================================================\n",
      "embedding (Embedding)        (None, 1000, 100)         3000000   \n",
      "_________________________________________________________________\n",
      "dropout (Dropout)            (None, 1000, 100)         0         \n",
      "_________________________________________________________________\n",
      "lstm (LSTM)                  (None, 100)               80400     \n",
      "_________________________________________________________________\n",
      "dense (Dense)                (None, 1)                 101       \n",
      "=================================================================\n",
      "Total params: 3,080,501\n",
      "Trainable params: 3,080,501\n",
      "Non-trainable params: 0\n",
      "_________________________________________________________________\n"
     ]
    }
   ],
   "source": [
    "SetupModel().summary()"
   ]
  },
  {
   "cell_type": "code",
   "execution_count": 22,
   "metadata": {},
   "outputs": [],
   "source": [
    "# adjust the hyper-parameters of Adam optimizer\n",
    "adam_optimizer = tf.keras.optimizers.Adam(learning_rate=0.001, beta_1=0.9, beta_2=0.999, amsgrad=False)"
   ]
  },
  {
   "cell_type": "code",
   "execution_count": 23,
   "metadata": {},
   "outputs": [
    {
     "name": "stdout",
     "output_type": "stream",
     "text": [
      "Train on 28406 samples, validate on 3157 samples\n",
      "Epoch 1/5\n",
      "28406/28406 [==============================] - 721s 25ms/sample - loss: 0.5261 - accuracy: 0.7386 - val_loss: 0.4500 - val_accuracy: 0.7925\n",
      "Epoch 2/5\n",
      "28406/28406 [==============================] - 712s 25ms/sample - loss: 0.4095 - accuracy: 0.8215 - val_loss: 0.5145 - val_accuracy: 0.7399\n",
      "Epoch 3/5\n",
      "28406/28406 [==============================] - 712s 25ms/sample - loss: 0.3509 - accuracy: 0.8480 - val_loss: 0.4464 - val_accuracy: 0.7960\n",
      "Epoch 4/5\n",
      "28406/28406 [==============================] - 712s 25ms/sample - loss: 0.3093 - accuracy: 0.8681 - val_loss: 0.4973 - val_accuracy: 0.7989\n",
      "Epoch 5/5\n",
      "28406/28406 [==============================] - 710s 25ms/sample - loss: 0.2795 - accuracy: 0.8825 - val_loss: 0.4915 - val_accuracy: 0.7954\n"
     ]
    }
   ],
   "source": [
    "# compile model and fit the training set\n",
    "model_adam = SetupModel()\n",
    "model_adam.compile(loss='binary_crossentropy', optimizer=adam_optimizer, metrics=['accuracy'])\n",
    "\n",
    "history_adam = model_adam.fit(X_train, Y_train, \n",
    "                    epochs=epochs, batch_size=batch_size, validation_split=0.1,\n",
    "                    callbacks=[EarlyStopping(monitor='val_loss', patience=3, min_delta=0.0001)])"
   ]
  },
  {
   "cell_type": "markdown",
   "metadata": {},
   "source": [
    "### Result (RNN Model)\n",
    "Below are the results generated by RNN model, in term of training/testing accuracy, loss with different epochs"
   ]
  },
  {
   "cell_type": "code",
   "execution_count": 24,
   "metadata": {},
   "outputs": [],
   "source": [
    "# evaluate the result\n",
    "### overall\n",
    "score_train_adam = model_adam.evaluate(X_train,Y_train,verbose=0)\n",
    "score_test_adam = model_adam.evaluate(X_test,Y_test,verbose=0)\n",
    "\n",
    "# training/testing acc/loss\n",
    "loss_train_adam = score_train_adam[0]\n",
    "loss_test_adam = score_test_adam[0]\n",
    "acc_train_adam = score_train_adam[1]\n",
    "acc_test_adam = score_test_adam[1]\n",
    "\n",
    "### epoch wise\n",
    "train_acc_trend_adam = history_adam.history['accuracy']\n",
    "train_loss_trend_adam = history_adam.history['loss']\n",
    "val_acc_trend_adam = history_adam.history['val_accuracy']\n",
    "val_loss_trend_adam = history_adam.history['val_loss']"
   ]
  },
  {
   "cell_type": "code",
   "execution_count": 25,
   "metadata": {},
   "outputs": [
    {
     "data": {
      "text/plain": [
       "<matplotlib.legend.Legend at 0x23667c2b448>"
      ]
     },
     "execution_count": 25,
     "metadata": {},
     "output_type": "execute_result"
    },
    {
     "data": {
      "image/png": "[encoded data removed]",
      "text/plain": [
       "<Figure size 1440x432 with 2 Axes>"
      ]
     },
     "metadata": {
      "needs_background": "light"
     },
     "output_type": "display_data"
    }
   ],
   "source": [
    "fig, (ax1,ax2) = plt.subplots(1,2, figsize=(20,6))\n",
    "\n",
    "#### accuarcy\n",
    "result_acc_train = pd.DataFrame({\n",
    "    'x':range(1,6),\n",
    "    'Training': train_acc_trend_adam,\n",
    "    'Validation': val_acc_trend_adam\n",
    "    })\n",
    "\n",
    "ax1.plot('x', 'Training', data=result_acc_train, marker='o', color='blue', linewidth=3,markersize=12)\n",
    "ax1.plot('x', 'Validation', data=result_acc_train, marker='o', color='red', linewidth=3,markersize=12)\n",
    "ax1.set_title('Prediction Accuracy for Training and Validation Set', fontsize=20)\n",
    "ax1.set_xlabel('Epoch', fontsize=18)\n",
    "ax1.set_ylabel('Accuracy', fontsize=16)\n",
    "ax1.legend(fontsize = 10)\n",
    "\n",
    "\n",
    "#### loss\n",
    "result_loss_train = pd.DataFrame({\n",
    "    'x':range(1,6),\n",
    "    'Training': train_loss_trend_adam,\n",
    "    'Validation': val_loss_trend_adam\n",
    "    })\n",
    "\n",
    "ax2.plot('x', 'Training', data=result_loss_train, marker='o', color='blue', linewidth=3,markersize=12)\n",
    "ax2.plot('x', 'Validation', data=result_loss_train, marker='o', color='red', linewidth=3,markersize=12)\n",
    "ax2.set_title('Binary Cross Entropy Loss for Training and Validation Set', fontsize=20)\n",
    "ax2.set_xlabel('Epoch', fontsize=18)\n",
    "ax2.set_ylabel('Loss', fontsize=16)\n",
    "ax2.legend(fontsize = 10)"
   ]
  },
  {
   "cell_type": "markdown",
   "metadata": {},
   "source": [
    "From two plots above, we can see there’s a clear overfitting after epoch 2 for the RNN model, as accuracy for validation set converges at around 0.79 and training set still increases. This might due to the fact that our training set is small compared to the RNN structure, which tends to be too flexible for detecting the patterns of recommend and not-recommend reviews"
   ]
  },
  {
   "cell_type": "markdown",
   "metadata": {},
   "source": [
    "### Result (Classification)\n",
    "The binary classification result on the testing set is evaluated based on the the ROC curve and confusion matrix."
   ]
  },
  {
   "cell_type": "code",
   "execution_count": 26,
   "metadata": {},
   "outputs": [],
   "source": [
    "from sklearn.metrics import roc_curve\n",
    "y_pred_keras = model_adam.predict(X_test).ravel()\n",
    "fpr_keras, tpr_keras, thresholds_keras = roc_curve(Y_test, y_pred_keras)"
   ]
  },
  {
   "cell_type": "code",
   "execution_count": 27,
   "metadata": {},
   "outputs": [],
   "source": [
    "from sklearn.metrics import auc\n",
    "auc_keras = auc(fpr_keras, tpr_keras)"
   ]
  },
  {
   "cell_type": "code",
   "execution_count": 33,
   "metadata": {},
   "outputs": [
    {
     "data": {
      "image/png": "[encoded data removed]",
      "text/plain": [
       "<Figure size 576x576 with 1 Axes>"
      ]
     },
     "metadata": {
      "needs_background": "light"
     },
     "output_type": "display_data"
    }
   ],
   "source": [
    "plt.figure(figsize=(8,8))\n",
    "plt.plot([0, 1], [0, 1], 'k--')\n",
    "plt.plot(fpr_keras, tpr_keras, label='RNN Model (area = {:.3f})'.format(auc_keras))\n",
    "plt.xlabel('False positive rate')\n",
    "plt.ylabel('True positive rate')\n",
    "plt.title('ROC curve for review classification')\n",
    "plt.legend(loc='best')\n",
    "plt.show()"
   ]
  },
  {
   "cell_type": "code",
   "execution_count": 79,
   "metadata": {},
   "outputs": [],
   "source": [
    "def plot_confusion_matrix(cm, classes,\n",
    "                          normalize=False,\n",
    "                          title=None,\n",
    "                          cmap=plt.cm.Blues):\n",
    "    \"\"\"\n",
    "    This function prints and plots the confusion matrix.\n",
    "    Normalization can be applied by setting `normalize=True`.\n",
    "    \"\"\"\n",
    "    if not title:\n",
    "        if normalize:\n",
    "            title = 'Normalized confusion matrix'\n",
    "        else:\n",
    "            title = 'Confusion matrix, without normalization'\n",
    "\n",
    "    # Only use the labels that appear in the data\n",
    "    classes = classes\n",
    "\n",
    "    print(cm)\n",
    "\n",
    "    fig, ax = plt.subplots(figsize=(10,6))\n",
    "    im = ax.imshow(cm, interpolation='nearest', cmap=cmap)\n",
    "    ax.figure.colorbar(im, ax=ax)\n",
    "    ax.set(xticks=np.arange(cm.shape[1]),\n",
    "           yticks=np.arange(cm.shape[0]),\n",
    "           xticklabels=classes, yticklabels=classes,\n",
    "           title=title,\n",
    "           ylabel='True label',\n",
    "           xlabel='Predicted label')\n",
    "\n",
    "    # Rotate the tick labels and set their alignment.\n",
    "    plt.setp(ax.get_xticklabels(), ha=\"right\",\n",
    "             rotation_mode=\"anchor\")\n",
    "\n",
    "    # Loop over data dimensions and create text annotations.\n",
    "    thresh = cm.max() / 2.\n",
    "    for i in range(cm.shape[0]):\n",
    "        for j in range(cm.shape[1]):\n",
    "            ax.text(j, i, format(cm[i, j], fmt),\n",
    "                    ha=\"center\", va=\"center\",\n",
    "                    color=\"white\" if cm[i, j] > thresh else \"black\")\n",
    "    fig.tight_layout()\n",
    "    return ax"
   ]
  },
  {
   "cell_type": "code",
   "execution_count": 80,
   "metadata": {},
   "outputs": [
    {
     "name": "stdout",
     "output_type": "stream",
     "text": [
      "Confusion matrix, without normalization\n",
      "[[1285  344]\n",
      " [ 392 1487]]\n"
     ]
    },
    {
     "data": {
      "text/plain": [
       "<matplotlib.axes._subplots.AxesSubplot at 0x237fb756748>"
      ]
     },
     "execution_count": 80,
     "metadata": {},
     "output_type": "execute_result"
    },
    {
     "data": {
      "image/png": "[encoded data removed]",
      "text/plain": [
       "<Figure size 720x432 with 2 Axes>"
      ]
     },
     "metadata": {
      "needs_background": "light"
     },
     "output_type": "display_data"
    }
   ],
   "source": [
    "cm = np.asarray([[1285,344],[392,1487]])\n",
    "plot_confusion_matrix(cm, classes=['Recommend','Not-Recommend'],\n",
    "                      title='Confusion Matrix')"
   ]
  },
  {
   "cell_type": "markdown",
   "metadata": {},
   "source": [
    "From the ROC curve, we can see the AUC for classification is around 0.871 and confusion matrix shows the overall accuracy rate is around 0.7902, which is roughly the same as the validation accuracy at epoch 2. The model also is more robust to classify not-recommend reviews compared to recommend reviews, as 1285 recommend reviews and 1487 not-recommend reviews are classified corretly."
   ]
  },
  {
   "cell_type": "markdown",
   "metadata": {},
   "source": [
    "### Summary\n",
    "<br>This jupyter notebook explores using deep learning RNN model to classify text because RNN model helps preserve the information from former part of a sentence and iterate over to update the weights accordingly. The deep learning model is designed to fit in specifically the steam review and used to classify the binary labels (recommend/not recommend). </br>\n",
    "<br>The results are evaluated by the training/testing accuracy and loss for each epoch, and overfitting is detected if the validation results are converged early. The final classification results are evaluated by ROC and confusion matrix, and the overall performance is roughly the same as the training model suggests.</br>"
   ]
  }
 ],
 "metadata": {
  "kernelspec": {
   "display_name": "Python 3",
   "language": "python",
   "name": "python3"
  },
  "language_info": {
   "codemirror_mode": {
    "name": "ipython",
    "version": 3
   },
   "file_extension": ".py",
   "mimetype": "text/x-python",
   "name": "python",
   "nbconvert_exporter": "python",
   "pygments_lexer": "ipython3",
   "version": "3.7.3"
  }
 },
 "nbformat": 4,
 "nbformat_minor": 2
}
